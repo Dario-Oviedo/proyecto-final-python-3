{
 "cells": [
  {
   "cell_type": "markdown",
   "metadata": {},
   "source": [
    "# PROYECTO FINAL --- DARIO OVIEDO RUEDA"
   ]
  },
  {
   "cell_type": "markdown",
   "metadata": {},
   "source": [
    "## 1. Tema: Comparativa entre las marcas del Holy Trinity \n",
    "\n",
    "#### Este proyecto consiste en evaluar las diferencias en las 3 compañias relojares identificadas como \"Santísima Trinidad\" (Holy Trinity): Audemars Piguet, Patek Philippe y Vacheron Constantin.\n",
    "\n",
    "#### Esta evaluación esta basada en la pagina de EBay y consiste en los siguientes criterios:\n",
    "#### - Cantidad disponible de cada uno\n",
    "#### - Rango de precios por marca\n",
    "#### - Precio promedio por marca"
   ]
  },
  {
   "cell_type": "markdown",
   "metadata": {},
   "source": [
    "## 2. Entorno Virtual\n",
    "\n",
    "### 2.1. Importación de librerias"
   ]
  },
  {
   "cell_type": "code",
   "execution_count": 113,
   "metadata": {},
   "outputs": [
    {
     "data": {
      "text/plain": [
       "'English_United States.1252'"
      ]
     },
     "execution_count": 113,
     "metadata": {},
     "output_type": "execute_result"
    }
   ],
   "source": [
    "import requests\n",
    "from bs4 import BeautifulSoup\n",
    "import numpy as np\n",
    "import pandas as pd\n",
    "import matplotlib.pyplot as plt\n",
    "import sqlite3\n",
    "import csv\n",
    "import datetime\n",
    "import locale\n",
    "from fastapi import FastAPI\n",
    "from pydantic import BaseModel\n",
    "locale.setlocale(locale.LC_ALL, '')"
   ]
  },
  {
   "cell_type": "markdown",
   "metadata": {},
   "source": [
    "### 2.2. Creación de funciones requeridas\n",
    "\n",
    "#### 2.2.1 Funciones de Web Scraping"
   ]
  },
  {
   "cell_type": "code",
   "execution_count": 76,
   "metadata": {},
   "outputs": [],
   "source": [
    "data = []\n",
    "#def obtener_html(url):\n",
    "#    response = requests.get(url)\n",
    "#    return response.text\n",
    "\n",
    "#def analizar_html(html):\n",
    "#    return BeautifulSoup(html, 'html.parser')\n",
    "\n",
    "def obtener_analizar(url):\n",
    "    response = requests.get(url)\n",
    "    return BeautifulSoup(response.text, 'html.parser')\n",
    "\n",
    "\n",
    "def procesar_html(soup):\n",
    "    titulos = []\n",
    "    precios = []\n",
    "    precios_envio = []\n",
    "    skus = []\n",
    "    marca = []\n",
    "    sellers = []\n",
    "\n",
    "    titulo_items = soup.find_all('div', \"s-item__info clearfix\")\n",
    "    for item in titulo_items:\n",
    "        titulo = item.a.text.strip() \n",
    "        indece = titulo.find(\"Open\")\n",
    "        titulo = titulo[0:indece]\n",
    "        str_tittle = titulo.lower()\n",
    "        if str_tittle.find(\"audemars\") > -1:\n",
    "            marca.append(\"Audemars Piguet\")\n",
    "        elif str_tittle.find(\"patek\") > -1:\n",
    "            marca.append(\"Patek Philippe\")\n",
    "        elif str_tittle.find(\"vacheron\") > -1:\n",
    "            marca.append(\"Vacheron Constantin\")\n",
    "        else:\n",
    "            marca.append(\"Unknown\")\n",
    "        \n",
    "        titulos.append(titulo)\n",
    "\n",
    "    precios_items = soup.find_all('span', class_=\"s-item__price\")\n",
    "    for item in precios_items:\n",
    "        precio = item.text.strip()\n",
    "        ind_precio = precio.find(\"$\")\n",
    "        precio = precio[ind_precio+1:]\n",
    "        precio = precio.replace(u'\\xa0', '')\n",
    "        precio = float(precio.strip())\n",
    "        precios.append(precio)\n",
    "\n",
    "    #seller_items = soup.find_all('div', class_=\"s-seller-feedback\")\n",
    "    #print(seller_items)\n",
    "    #for item in seller_items:\n",
    "    #    print(\"Ahi va\")\n",
    "    #    print(item)\n",
    "    #    seller = item.text.strip()\n",
    "    #    print(seller)\n",
    "\n",
    "\n",
    "    #precio_envio_items = soup.find_all(\"span\", class_={\"deliveryvalue\", \"deliverytextfree\"})\n",
    "    #for item in precio_envio_items:\n",
    "    #    precio_envio = item.text\n",
    "    #    precios_envio.append(precio_envio)\n",
    "\n",
    "    #sku_items = soup.find_all(\"div\", class_=\"emproduct_right_artnum\")\n",
    "    #for item in sku_items:\n",
    "    #    sku = item.text.strip()\n",
    "    #    skus.append(sku.lstrip(\"SKU: \"))\n",
    "\n",
    "\n",
    "    #min_length = min(len(titulos), len(skus), len(precios), len(precios_envio))\n",
    "    min_length = min(len(titulos), len(precios))\n",
    "\n",
    "    for i in range(min_length):\n",
    "        data.append({\n",
    "            \"Marca\": marca[i] if i < len(marca) else None,\n",
    "            \"Descripcion\": titulos[i] if i < len(titulos) else None,\n",
    "            \"Precio\": precios[i] if i < len(precios) else None,\n",
    "           # \"Sku\": skus[i] if i < len(skus) else None,\n",
    "           # \"Precio\": precios[i] if i < len(precios) else None,\n",
    "           # \"Precio Envio\": precios_envio[i] if i < len(precios_envio) else None,\n",
    "        })\n",
    "    \n",
    "def informacion(direccion, paginas):\n",
    "    sopa = obtener_analizar(direccion)\n",
    "    procesar_html(sopa)\n",
    "    data.pop(0)\n",
    "    if paginas > 1:\n",
    "        for i in range(paginas):\n",
    "            direccion_nueva = direccion + \"&_pgn=\" + str(i+2)\n",
    "            sopa = obtener_analizar(direccion)\n",
    "            procesar_html(sopa)\n"
   ]
  },
  {
   "cell_type": "markdown",
   "metadata": {},
   "source": [
    "## 3. Adquisicion de datos"
   ]
  },
  {
   "cell_type": "markdown",
   "metadata": {},
   "source": [
    "### 3.1. Interface con el usuario para conocer la pagina web de Ebay y la cantidad de paginas a usar"
   ]
  },
  {
   "cell_type": "code",
   "execution_count": 77,
   "metadata": {},
   "outputs": [],
   "source": [
    "paginas = int(input(\"Cantidad de páginas? : \"))\n",
    "direccion = input(\"Página web: \")"
   ]
  },
  {
   "cell_type": "markdown",
   "metadata": {},
   "source": [
    "### 3.2. Procesamiento de la informacion"
   ]
  },
  {
   "cell_type": "code",
   "execution_count": 78,
   "metadata": {},
   "outputs": [],
   "source": [
    "informacion(direccion, paginas)"
   ]
  },
  {
   "cell_type": "markdown",
   "metadata": {},
   "source": [
    "### 3.3. Generacion del Dataframe"
   ]
  },
  {
   "cell_type": "code",
   "execution_count": 79,
   "metadata": {},
   "outputs": [],
   "source": [
    "df = pd.DataFrame(data)"
   ]
  },
  {
   "cell_type": "code",
   "execution_count": 80,
   "metadata": {},
   "outputs": [
    {
     "data": {
      "text/html": [
       "<div>\n",
       "<style scoped>\n",
       "    .dataframe tbody tr th:only-of-type {\n",
       "        vertical-align: middle;\n",
       "    }\n",
       "\n",
       "    .dataframe tbody tr th {\n",
       "        vertical-align: top;\n",
       "    }\n",
       "\n",
       "    .dataframe thead th {\n",
       "        text-align: right;\n",
       "    }\n",
       "</style>\n",
       "<table border=\"1\" class=\"dataframe\">\n",
       "  <thead>\n",
       "    <tr style=\"text-align: right;\">\n",
       "      <th></th>\n",
       "      <th>Marca</th>\n",
       "      <th>Descripcion</th>\n",
       "      <th>Precio</th>\n",
       "    </tr>\n",
       "  </thead>\n",
       "  <tbody>\n",
       "    <tr>\n",
       "      <th>0</th>\n",
       "      <td>Vacheron Constantin</td>\n",
       "      <td>Reloj para hombre Vacheron &amp; Constantin oro 18...</td>\n",
       "      <td>64099.52</td>\n",
       "    </tr>\n",
       "    <tr>\n",
       "      <th>1</th>\n",
       "      <td>Patek Philippe</td>\n",
       "      <td>Patek Philippe Nautilus 5712G esfera gris rese...</td>\n",
       "      <td>2090723.90</td>\n",
       "    </tr>\n",
       "    <tr>\n",
       "      <th>2</th>\n",
       "      <td>Patek Philippe</td>\n",
       "      <td>Anuncio nuevoReloj para hombre Patek Philippe ...</td>\n",
       "      <td>1170999.93</td>\n",
       "    </tr>\n",
       "    <tr>\n",
       "      <th>3</th>\n",
       "      <td>Patek Philippe</td>\n",
       "      <td>Reloj de bolsillo para hombre PATEK, PHILIPPE ...</td>\n",
       "      <td>49215.94</td>\n",
       "    </tr>\n",
       "    <tr>\n",
       "      <th>4</th>\n",
       "      <td>Audemars Piguet</td>\n",
       "      <td>Sin usar Audemars Piguet Royal Oak 41 mm cronó...</td>\n",
       "      <td>6370918.47</td>\n",
       "    </tr>\n",
       "    <tr>\n",
       "      <th>...</th>\n",
       "      <td>...</td>\n",
       "      <td>...</td>\n",
       "      <td>...</td>\n",
       "    </tr>\n",
       "    <tr>\n",
       "      <th>819</th>\n",
       "      <td>Patek Philippe</td>\n",
       "      <td>Patek Philippe | Nautilus 5712/1a | acero | es...</td>\n",
       "      <td>862936.04</td>\n",
       "    </tr>\n",
       "    <tr>\n",
       "      <th>820</th>\n",
       "      <td>Audemars Piguet</td>\n",
       "      <td>Reloj para hombre Audemars Piguet Royal Oak gris</td>\n",
       "      <td>1618207.35</td>\n",
       "    </tr>\n",
       "    <tr>\n",
       "      <th>821</th>\n",
       "      <td>Patek Philippe</td>\n",
       "      <td>Patek Philippe Nautilus 5711 esfera verde acer...</td>\n",
       "      <td>1527391.22</td>\n",
       "    </tr>\n",
       "    <tr>\n",
       "      <th>822</th>\n",
       "      <td>Patek Philippe</td>\n",
       "      <td>Anuncio nuevoPatek PHILIPPE CALATRAVA 3588/2 p...</td>\n",
       "      <td>5854999.66</td>\n",
       "    </tr>\n",
       "    <tr>\n",
       "      <th>823</th>\n",
       "      <td>Vacheron Constantin</td>\n",
       "      <td>Anuncio nuevoVacheron Consantin Extra Flat 759...</td>\n",
       "      <td>284681.11</td>\n",
       "    </tr>\n",
       "  </tbody>\n",
       "</table>\n",
       "<p>824 rows × 3 columns</p>\n",
       "</div>"
      ],
      "text/plain": [
       "                   Marca                                        Descripcion  \\\n",
       "0    Vacheron Constantin  Reloj para hombre Vacheron & Constantin oro 18...   \n",
       "1         Patek Philippe  Patek Philippe Nautilus 5712G esfera gris rese...   \n",
       "2         Patek Philippe  Anuncio nuevoReloj para hombre Patek Philippe ...   \n",
       "3         Patek Philippe  Reloj de bolsillo para hombre PATEK, PHILIPPE ...   \n",
       "4        Audemars Piguet  Sin usar Audemars Piguet Royal Oak 41 mm cronó...   \n",
       "..                   ...                                                ...   \n",
       "819       Patek Philippe  Patek Philippe | Nautilus 5712/1a | acero | es...   \n",
       "820      Audemars Piguet   Reloj para hombre Audemars Piguet Royal Oak gris   \n",
       "821       Patek Philippe  Patek Philippe Nautilus 5711 esfera verde acer...   \n",
       "822       Patek Philippe  Anuncio nuevoPatek PHILIPPE CALATRAVA 3588/2 p...   \n",
       "823  Vacheron Constantin  Anuncio nuevoVacheron Consantin Extra Flat 759...   \n",
       "\n",
       "         Precio  \n",
       "0      64099.52  \n",
       "1    2090723.90  \n",
       "2    1170999.93  \n",
       "3      49215.94  \n",
       "4    6370918.47  \n",
       "..          ...  \n",
       "819   862936.04  \n",
       "820  1618207.35  \n",
       "821  1527391.22  \n",
       "822  5854999.66  \n",
       "823   284681.11  \n",
       "\n",
       "[824 rows x 3 columns]"
      ]
     },
     "execution_count": 80,
     "metadata": {},
     "output_type": "execute_result"
    }
   ],
   "source": [
    "df"
   ]
  },
  {
   "cell_type": "markdown",
   "metadata": {},
   "source": [
    "### 3.4. Limpieza\n",
    "\n",
    "#### Debido a que Ebay promociona productos similares que no pertenecen al Holy Trinity, es necesario elimiar los renglones que no son de esas marcas"
   ]
  },
  {
   "cell_type": "code",
   "execution_count": 81,
   "metadata": {},
   "outputs": [],
   "source": [
    "df = df[df['Marca'] != 'Unknown']"
   ]
  },
  {
   "cell_type": "code",
   "execution_count": 82,
   "metadata": {},
   "outputs": [
    {
     "data": {
      "text/plain": [
       "407"
      ]
     },
     "execution_count": 82,
     "metadata": {},
     "output_type": "execute_result"
    }
   ],
   "source": [
    "len(df[df['Marca'] == 'Patek Philippe'])"
   ]
  },
  {
   "cell_type": "code",
   "execution_count": 83,
   "metadata": {},
   "outputs": [
    {
     "data": {
      "text/plain": [
       "143"
      ]
     },
     "execution_count": 83,
     "metadata": {},
     "output_type": "execute_result"
    }
   ],
   "source": [
    "len(df[df['Marca'] == 'Audemars Piguet'])"
   ]
  },
  {
   "cell_type": "code",
   "execution_count": 84,
   "metadata": {},
   "outputs": [
    {
     "data": {
      "text/plain": [
       "242"
      ]
     },
     "execution_count": 84,
     "metadata": {},
     "output_type": "execute_result"
    }
   ],
   "source": [
    "len(df[df['Marca'] == 'Vacheron Constantin'])"
   ]
  },
  {
   "cell_type": "code",
   "execution_count": 85,
   "metadata": {},
   "outputs": [
    {
     "data": {
      "text/plain": [
       "0"
      ]
     },
     "execution_count": 85,
     "metadata": {},
     "output_type": "execute_result"
    }
   ],
   "source": [
    "len(df[df['Marca'] == 'Unknown'])"
   ]
  },
  {
   "cell_type": "code",
   "execution_count": 86,
   "metadata": {},
   "outputs": [],
   "source": [
    "fecha_actual = datetime.datetime.now().strftime(\"%d-%m-%Y\")\n",
    "\n",
    "df.to_csv(f\"dataset/web scraping/Relojes-{fecha_actual}.csv\", index=False)"
   ]
  },
  {
   "cell_type": "markdown",
   "metadata": {},
   "source": [
    "## 4. Analisis exploratorio de datos"
   ]
  },
  {
   "cell_type": "markdown",
   "metadata": {},
   "source": [
    "### 4.1 Grafica de barras mostrando la cantidad de unidades disponibles por marca"
   ]
  },
  {
   "cell_type": "code",
   "execution_count": 87,
   "metadata": {},
   "outputs": [
    {
     "data": {
      "image/png": "[encoded data removed]",
      "text/plain": [
       "<Figure size 640x480 with 1 Axes>"
      ]
     },
     "metadata": {},
     "output_type": "display_data"
    }
   ],
   "source": [
    "fig, ax = plt.subplots()\n",
    "x = np.array([\"Audemars Piguet\", \"Patek Philippe\", \"Vacheron Constantin\"])\n",
    "values_array = [len(df[df['Marca'] == 'Audemars Piguet']), len(df[df['Marca'] == 'Patek Philippe']), len(df[df['Marca'] == 'Vacheron Constantin'])]\n",
    "y = values_array\n",
    "values_bar = ax.bar(x, y)\n",
    "ax.bar_label(values_bar)\n",
    "plt.bar(x, y, color = ['darkgreen', 'royalblue', 'tan'])\n",
    "plt.show()"
   ]
  },
  {
   "cell_type": "markdown",
   "metadata": {},
   "source": [
    "### 4.2 Grafica de Pastel mostrando las proporciones de cada uno en cuanto a las unidades disponibles en el mercado"
   ]
  },
  {
   "cell_type": "code",
   "execution_count": 88,
   "metadata": {},
   "outputs": [
    {
     "data": {
      "image/png": "[encoded data removed]",
      "text/plain": [
       "<Figure size 640x480 with 1 Axes>"
      ]
     },
     "metadata": {},
     "output_type": "display_data"
    }
   ],
   "source": [
    "labels = \"Audemars Piguet\", \"Patek Philippe\", \"Vacheron Constantin\"\n",
    "explode = (0.1, 0.1, 0.1)\n",
    "fig1, ax1 = plt.subplots()\n",
    "ax1.pie(y, explode = explode, labels=labels, autopct='%1.1f%%', colors = ['darkgreen', 'royalblue', 'tan'])\n",
    "plt.show()\n"
   ]
  },
  {
   "cell_type": "markdown",
   "metadata": {},
   "source": [
    "### 4.3 Grafica de Barras mostrando el promedio del costo por reloj expresado en Pesos"
   ]
  },
  {
   "cell_type": "code",
   "execution_count": 89,
   "metadata": {},
   "outputs": [
    {
     "data": {
      "image/png": "[encoded data removed]",
      "text/plain": [
       "<Figure size 640x480 with 1 Axes>"
      ]
     },
     "metadata": {},
     "output_type": "display_data"
    }
   ],
   "source": [
    "preciototal_a = df.loc[df['Marca'] == 'Audemars Piguet', 'Precio'].sum()\n",
    "preciototal_p = df.loc[df['Marca'] == 'Patek Philippe', 'Precio'].sum()\n",
    "preciototal_v = df.loc[df['Marca'] == 'Vacheron Constantin', 'Precio'].sum()\n",
    "cantidadtotal_a = len(df[df['Marca'] == 'Audemars Piguet'])\n",
    "cantidadtotal_p = len(df[df['Marca'] == 'Patek Philippe'])\n",
    "cantidadtotal_v = len(df[df['Marca'] == 'Vacheron Constantin'])\n",
    "\n",
    "promedio_a = preciototal_a / cantidadtotal_a\n",
    "promedio_p = preciototal_p / cantidadtotal_p\n",
    "promedio_v = preciototal_v / cantidadtotal_v\n",
    "\n",
    "currency_a = '${:,.2f}'.format(promedio_a)\n",
    "currency_p = '${:,.2f}'.format(promedio_p)\n",
    "currency_v = '${:,.2f}'.format(promedio_v)\n",
    "\n",
    "fig, ax = plt.subplots()\n",
    "x = np.array([\"Audemars Piguet\", \"Patek Philippe\", \"Vacheron Constantin\"])\n",
    "#values_array = ['${:,.2f}'.format(promedio_a), '${:,.2f}'.format(promedio_p), '${:,.2f}'.format(promedio_v)]\n",
    "values_array = [promedio_a, promedio_p, promedio_v]\n",
    "values_array_currency = [currency_a, currency_p, currency_v]\n",
    "y = values_array\n",
    "values_bar = ax.bar(x, y)\n",
    "ax.bar_label(values_bar)\n",
    "plt.bar(x, y, color = ['darkgreen', 'royalblue', 'tan'])\n",
    "plt.show()"
   ]
  },
  {
   "cell_type": "code",
   "execution_count": 90,
   "metadata": {},
   "outputs": [
    {
     "name": "stdout",
     "output_type": "stream",
     "text": [
      "<class 'numpy.float64'>\n",
      "866,710\n",
      "2.17778e+06\n",
      "2.40901e+06\n"
     ]
    }
   ],
   "source": [
    "#locale.setlocale(locale.LC_ALL, '')\n",
    "\n",
    "\n",
    "pv = '{:n}'.format(promedio_v)\n",
    "pa = '{:n}'.format(promedio_a)\n",
    "pp = '{:n}'.format(promedio_p)\n",
    "\n",
    "print(type(promedio_a))\n",
    "\n",
    "print(pv)\n",
    "print(pa)\n",
    "print(pp)"
   ]
  },
  {
   "cell_type": "markdown",
   "metadata": {},
   "source": [
    "## 5. Base de datos"
   ]
  },
  {
   "cell_type": "markdown",
   "metadata": {},
   "source": [
    "### 5.1. Creacion"
   ]
  },
  {
   "cell_type": "code",
   "execution_count": 109,
   "metadata": {},
   "outputs": [],
   "source": [
    "def create_watch_table():\n",
    "    conn = sqlite3.connect(\"watches.db\")\n",
    "    cursor = conn.cursor()\n",
    "\n",
    "    cursor.execute(\"\"\"CREATE TABLE watch(\n",
    "        id INTEGER PRIMARY KEY,\n",
    "        marca TEXT NOT NULL,\n",
    "        descripcion TEXT NOT NULL,\n",
    "        precio FLOAT NOT NULL\n",
    "        )\"\"\")\n",
    "    \n",
    "    conn.commit()\n",
    "    conn.close()"
   ]
  },
  {
   "cell_type": "markdown",
   "metadata": {},
   "source": [
    "### 5.2. Leer CSV"
   ]
  },
  {
   "cell_type": "code",
   "execution_count": 96,
   "metadata": {},
   "outputs": [],
   "source": [
    "def read_csv(csv_file):\n",
    "    with open(csv_file, newline='') as file:\n",
    "        reader = csv.DictReader(file)\n",
    "        data = [row for row in reader]\n",
    "    return data"
   ]
  },
  {
   "cell_type": "markdown",
   "metadata": {},
   "source": [
    "### 5.3. Insertar en Base de Datos"
   ]
  },
  {
   "cell_type": "code",
   "execution_count": 106,
   "metadata": {},
   "outputs": [],
   "source": [
    "def insertar_data(data):\n",
    "    conn = sqlite3.connect(\"watches.db\")\n",
    "    cursor = conn.cursor()\n",
    "    \n",
    "    for row in data:\n",
    "        cursor.execute(\"\"\"\n",
    "            INSERT INTO watch (marca, descripcion, precio)\n",
    "            VALUES (?, ?, ?)\n",
    "        \"\"\", (row[\"Marca\"], row[\"Descripcion\"], float(row[\"Precio\"])))\n",
    "\n",
    "    conn.commit()\n",
    "    conn.close()"
   ]
  },
  {
   "cell_type": "code",
   "execution_count": null,
   "metadata": {},
   "outputs": [],
   "source": [
    "if __name__ == \"__main__\":\n",
    "    csv_file = \"C:\\\\proyecto-final-python-3\\\\Relojes-15-08-2023.csv\"\n",
    "    data_to_insert = read_csv(csv_file)\n",
    "    insertar_data(data_to_insert)\n",
    "\n",
    "if __name__ == \"__main__\":\n",
    "    create_watch_table()"
   ]
  },
  {
   "cell_type": "markdown",
   "metadata": {},
   "source": [
    "## 6. API"
   ]
  },
  {
   "cell_type": "code",
   "execution_count": 114,
   "metadata": {},
   "outputs": [],
   "source": [
    "class Item(BaseModel):\n",
    "    marca: str\n",
    "    descripcion: str\n",
    "    precio: float\n",
    "\n",
    "app = FastAPI()"
   ]
  },
  {
   "cell_type": "code",
   "execution_count": null,
   "metadata": {},
   "outputs": [],
   "source": [
    "@app.post(\"/agregar_elemento/\")\n",
    "async def agregar_elemento(item: Item):\n",
    "    conn = sqlite3.connect(\"watches.db\")\n",
    "    cursor = conn.cursor()\n",
    "    cursor.execute(\"INSERT INTO watch (marca, descripcion, precio) VALUES (?, ?, ?)\", (item.marca, item, descripcion, item.precio))\n",
    "    conn.commit()\n",
    "    conn.close()\n",
    "    return {\"mensaje\": \"Datos agregados\"}"
   ]
  },
  {
   "cell_type": "code",
   "execution_count": null,
   "metadata": {},
   "outputs": [],
   "source": [
    "@app.get(\"/leer_elementos/\")\n",
    "async def leer_elementos():\n",
    "    conn = sqlite3.connect(\"watches.db\")\n",
    "    cursor = conn.cursor()\n",
    "    cursor.execute(\"SELECT marca, descripcion, precio FROM watch\")\n",
    "    resultados = cursor.fetchall()\n",
    "    conn.close()\n",
    "    if resultados:\n",
    "        return [{\"marca\": resultado[0], \"descripcion\": resultado[1], \"precio\": resultado[2]} for resultado in resultados]\n",
    "    else:\n",
    "        return{\"mensaje\": \"No hay datos en la DB\"}"
   ]
  }
 ],
 "metadata": {
  "kernelspec": {
   "display_name": "Python 3",
   "language": "python",
   "name": "python3"
  },
  "language_info": {
   "codemirror_mode": {
    "name": "ipython",
    "version": 3
   },
   "file_extension": ".py",
   "mimetype": "text/x-python",
   "name": "python",
   "nbconvert_exporter": "python",
   "pygments_lexer": "ipython3",
   "version": "3.9.10"
  },
  "orig_nbformat": 4
 },
 "nbformat": 4,
 "nbformat_minor": 2
}
